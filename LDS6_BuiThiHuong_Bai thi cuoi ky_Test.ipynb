{
 "cells": [
  {
   "cell_type": "markdown",
   "id": "cc464808",
   "metadata": {},
   "source": [
    "## Quá trình Train Model:\n",
    "* Tổng thời gian run end to end: 8 phút \n",
    "* (không bao gồm thời gian tuning parameter, do bước này đã thực hiện xong rồi nên marked lại để không run lại)\n",
    "* Chi tiết thực hiện tại file Train"
   ]
  },
  {
   "cell_type": "markdown",
   "id": "f6b94e35",
   "metadata": {},
   "source": [
    "Bước 1: Đọc dữ liệu\n",
    "* 1) Đọc dữ liệu từ file excel và xem một số info(), kiểm tra sơ bộ missing values\n",
    "* 2) Quan sát sơ bộ dữ liệu có thể thấy dữ liệu thuộc dạng có cấu trúc (structured data). Tuy nhiên, chưa đạt được mức độ clean và standard cần thiết.\n",
    "* Nhận xét: đây là bài toán dự đoán Giá nhà, thuộc nhóm Regression"
   ]
  },
  {
   "cell_type": "markdown",
   "id": "c900d157",
   "metadata": {},
   "source": [
    "Bước 2: Làm sạch dữ liệu\n",
    "* 1) Tìm hiểu cấu trúc và quy luật typing của từng cột dữ liệu.\n",
    "* 2) Bóc tách và làm sạch cho từng thuộc tính. Sử dụng các kỹ thuật: bỏ dấu Tiếng Việt, tách chữ, RegEx,... để lấy dữ liệu\n",
    "* 3) Có thể 1 cột dữ liệu nhưng được bóc tách thành nhiều thuộc tính. Hoặc từ 2 cột dữ liệu được chuyển hoá thành thuộc tính mới.\n",
    "* 3) Cố gắng sử dụng domain knowledge để tạo ra nhiều thuộc tính hợp lý nhất có thể để phục vụ cho bước EDA và Feature selection.    "
   ]
  },
  {
   "cell_type": "markdown",
   "id": "42d6272a",
   "metadata": {},
   "source": [
    "Bước 3: EDA\n",
    "* 1) Kiểm tra correlation giữa các thuộc tính liên tục với thuộc tính Giá. Từ đó, loại bỏ được khá nhiều nhiều thuộc tính đã tạo ra nhưng không tương quan với Giá.\n",
    "* 2) Sử dụng kiểm định ANOVA để kiểm tra  giữa các thuộc tính phân loại với thuộc tính Giá. Từ đó, cũng loại bỏ được khá nhiều nhiều thuộc tính phân loại không tương quan với Giá.\n",
    "* 3) Thông tin từ EDA còn cho thấy: các thuộc tính liên tục là Đơn giá, Diện tích và cả Giá đều có phân phối nhọn hơn PP chuẩn và lệch phải (đuôi của phân phối kéo rất dài về bên phải). \n",
    "* 4) Ngoài ra, phát hiện 1 mẫu có Giá và số Lầu không logic, và sau khi so sánh với các mẫu tương tự thì kết luận là có thể do lỗi typing => Xoá bỏ mẫu này tại bước Feature selection"
   ]
  },
  {
   "cell_type": "markdown",
   "id": "63cd74ea",
   "metadata": {},
   "source": [
    "Bước 4: Phân tích sâu hơn các thuộc tính location\n",
    "* 1) Các thuộc tính về location như: Đường, Phường, Quận chứa rất nhiều unique values (142 unique values đổi với Phường và 1044 unique values đối với Đường.\n",
    "* 2) Ngoài ra, các unique values có thể trùng tên nhưng bản chất thực tế location khác nhau: Ví dụ: Phường 1 thuộc Quận 3 khác với Phường 1 thuộc Quận 10, Quận 11, Quận 8, Quận 6, ...\n",
    "* 3) Về mặt domain knowledge, các thuộc tính về location có ảnh hưởng lớn đến Giá BĐS. Ở những location đắc địa, Đơn giá nhà sẽ cao hơn. Do đó, 2 Nhà có cùng chung các đặc điểm, Nhà nào ở location đắc địa hơn thì Đơn giá sẽ cao hơn, dẫn đến Giá cả cũng cao hơn.\n",
    "* 4) Thực tế kiểm định ANOVA phía trên cũng khẳng định các thuộc tính location có tương quan khá lớn với thuộc tính f_Gia.\n",
    "* 5) Tuy nhiên, nếu ghép Đường, Phường, Quận cách đơn thuần, thì sẽ tạo ra các feature về location có số lượng unique values rất lớn. Do đó, Thông qua phân tích sâu hơn các thuộc tính location với thuộc tính Đơn giá thì đã gom nhóm các Phường trong cùng Quận mà có Đơn giá tương đương nhau thành các nhóm.\n",
    "* 6) Sau khi gom nhóm, căn cứ thêm vào biểu đồ boxplot và domain knowledge để revise lại một số Phường bị ghép nhóm chưa hợp lý. Kết quả gom nhóm được chuyển thành thuộc tính f_Area_2, và <span style=\"color:blue\"> tạo thêm feature mới ghép từ f_Quan và f_Area_2, có tên gọi là f_Location_qa_2  </span> \n",
    "* 7) Những Quận mà Đơn giá giữa các Phương không chênh lệch nhiều thường sẽ có ít nhóm. Ví dụ: Quận Gò Vấp, Quận 12,... nhưng Quận 1, Quận 3, Quận 5,...\n",
    "* 8) Danh sách gom nhóm Area này được <span style=\"color:blue\"> lưu lại thành thành file excel </span> để sử dụng cho New data"
   ]
  },
  {
   "cell_type": "markdown",
   "id": "69c8d4e6",
   "metadata": {},
   "source": [
    "Bước 5: Feature selection\n",
    "* 1) Căn cứ vào các chỉ số tương quan với thuộc tính target là Giá nhiều lần thử nghiệm trên các models, chỉ một số thuộc tính sau được chọn: 'f_Nha_ve_sinh', 'f_Chieu_dai', 'f_Rong', 'f_Dien_tich', 'f_Dien_tich_su_dung', 'f_Lo_gioi', 'f_Lau_n','f_Nha_hem', 'f_Quan', 'f_Location_qa_2'\n",
    "* 2) Loại bỏ 1 mẫu có Giá và số Lâu không logic\n",
    "* 3) Loại bỏ các mẫu có null values"
   ]
  },
  {
   "cell_type": "markdown",
   "id": "0b285964",
   "metadata": {},
   "source": [
    "Bước 6: Feature Engineering\n",
    "* 1) Thực hiện OneHotEncoder với các thuộc tính phân loại dạng chữ: 'f_Quan', 'f_Location_qa_2'\n",
    "* 2) Thực hiện RobustScaler với các thuộc tính liên tục còn lại"
   ]
  },
  {
   "cell_type": "markdown",
   "id": "da0fca4d",
   "metadata": {},
   "source": [
    "Bước 7: Tách dữ liệu\n",
    "* 1) Tách tập dữ liệu Train sau khi đã transform thành X_train và X_test với tỷ lệ 80:20 theo 2 cách: dùng train_test_split() và dùng StratifiedShuffleSplit()\n",
    "* 2) Sau khi so sánh thì chọn cách tách StratifiedShuffleSplit() vì sau khi thử nghiệm thì hiệu suất mô hình cao hơn\n",
    "* 3) Tạo 2 tập dữ liệu có scale và không cần scale để thử nghiệm: X_train và X_test, X_train_scale và X_test_scale"
   ]
  },
  {
   "cell_type": "markdown",
   "id": "0beb6e42",
   "metadata": {},
   "source": [
    "Bước 8: Build các Models khác nhau: LinearRegression, KNeighborsRegressor, SVR, RandomForestRegressor, GradientBoostingRegressor\n",
    "* 1) Thực hiện Cross validation với số lượng lặp cv=10 trên các model tổng quát (chưa tuning parameter) để chọn ra các model tốt. Căn cứ để lựa chọn là các chỉ số: score và RMSE. Theo đó, chọn được các models: RandomForestRegressor, GradientBoostingRegressor\n",
    "* 2) Tuning parameter đối với các models: RandomForestRegressor, GradientBoostingRegressor\n",
    "* 2) Thực hiện Training, Model evaluation và Cross validation thì đi đến kết luận: \n",
    "** <span style=\"color:blue\"> model tốt nhất là GradientBoostingRegressor với n_estimators = 600 </span>"
   ]
  },
  {
   "cell_type": "markdown",
   "id": "8bfd2fb8",
   "metadata": {},
   "source": [
    "Bước 9: Xây dựng Pipeline\n",
    "* 1) Xây dựng hàm tự định nghĩa có tên Pre_process(), Create_XY(), Concating() có chức năng fit và transform cho các bước tiền xử lý dữ liệu giống như đã thực hiện khi Training model (đặc biệt là các bước clean data và tạo thuộc tính mới)\n",
    "* 2) Tạo pipline gồm các bước/model: tiền xử lý dữ liệu bằng Pre_process(), Create_XY, Concating() và lưu thành 2 pickle"
   ]
  },
  {
   "cell_type": "markdown",
   "id": "2c95b0e5",
   "metadata": {},
   "source": [
    "Bước 10: Lưu model\n",
    "* 1) Sử dụng thư viện pickle và phương thức dump để lưu thành các file pickles\n",
    "* 2) Pipeline các bước/model: tiền xử lý dữ liệu bằng Pre_process(), Create_XY(), Concating() được lưu thành 2 pickle\n",
    "* 3) Model OneHotEncoder được lưu thành 1 pickle và model GradientBoostingRegressor cũng lưu thành 1 pickle\n",
    "* 4) Tổng cộng có 4 file pickles"
   ]
  },
  {
   "cell_type": "markdown",
   "id": "5d70667f",
   "metadata": {},
   "source": [
    "# NEW DATA"
   ]
  },
  {
   "cell_type": "code",
   "execution_count": 1,
   "id": "88e1834b",
   "metadata": {},
   "outputs": [
    {
     "name": "stdout",
     "output_type": "stream",
     "text": [
      "importing Jupyter notebook from lib_evaluation_regression_model.ipynb\n"
     ]
    }
   ],
   "source": [
    "import os\n",
    "import time\n",
    "import numpy as np\n",
    "import pandas as pd\n",
    "import re\n",
    "import matplotlib.pyplot as plt\n",
    "import seaborn as sns\n",
    "import scipy\n",
    "from scipy import stats\n",
    "from scipy.stats import chi2_contingency, chi2\n",
    "import statsmodels.api as sm\n",
    "from statsmodels.formula.api import ols\n",
    "from mpl_toolkits.mplot3d import Axes3D\n",
    "from sklearn.preprocessing import OneHotEncoder, LabelEncoder\n",
    "from sklearn.feature_extraction.text import CountVectorizer, TfidfVectorizer\n",
    "from sklearn.preprocessing import RobustScaler\n",
    "from sklearn.preprocessing import PolynomialFeatures\n",
    "from sklearn.metrics import mean_squared_error, mean_absolute_error\n",
    "\n",
    "from sklearn.model_selection import train_test_split\n",
    "\n",
    "from sklearn.linear_model import LinearRegression\n",
    "from sklearn.neighbors import KNeighborsRegressor\n",
    "from sklearn.tree import DecisionTreeRegressor\n",
    "from sklearn import svm\n",
    "from sklearn.ensemble import AdaBoostRegressor, RandomForestRegressor, GradientBoostingRegressor\n",
    "import xgboost as xgb \n",
    "\n",
    "from sklearn.model_selection import GridSearchCV, RandomizedSearchCV\n",
    "from sklearn.model_selection import cross_val_score\n",
    "\n",
    "from sklearn.pipeline import Pipeline\n",
    "import pickle\n",
    "\n",
    "import sys; \n",
    "path=os.path.abspath(os.path.join(os.getcwd(), os.pardir)) + '\\Lib'\n",
    "sys.path.insert(0,path)\n",
    "import import_ipynb\n",
    "from lib_evaluation_regression_model import *\n",
    "\n",
    "import warnings\n",
    "warnings.filterwarnings('ignore')"
   ]
  },
  {
   "cell_type": "code",
   "execution_count": 2,
   "id": "21ad5801",
   "metadata": {},
   "outputs": [],
   "source": [
    "# Đọc dữ liệu\n",
    "df_new = pd.read_excel('House_test.xlsx')"
   ]
  },
  {
   "cell_type": "code",
   "execution_count": 3,
   "id": "f09b7d15",
   "metadata": {},
   "outputs": [],
   "source": [
    "# Load các models\n",
    "my_model_pre = Load_Object('model_pre_buithihuong.pkl')\n",
    "my_model_concating = Load_Object('model_concating_buithihuong.pkl')\n",
    "my_model_gbr = Load_Object('model_gbr_buithihuong.pkl')"
   ]
  },
  {
   "cell_type": "code",
   "execution_count": null,
   "id": "ed562ef3",
   "metadata": {},
   "outputs": [],
   "source": [
    "# Pre-processing\n",
    "X_new, y_new = my_model_pre.transform(df_new)"
   ]
  },
  {
   "cell_type": "code",
   "execution_count": null,
   "id": "ddb2e870",
   "metadata": {},
   "outputs": [],
   "source": [
    "X_new.head()"
   ]
  },
  {
   "cell_type": "code",
   "execution_count": 6,
   "id": "311df771",
   "metadata": {},
   "outputs": [
    {
     "data": {
      "text/html": [
       "<div>\n",
       "<style scoped>\n",
       "    .dataframe tbody tr th:only-of-type {\n",
       "        vertical-align: middle;\n",
       "    }\n",
       "\n",
       "    .dataframe tbody tr th {\n",
       "        vertical-align: top;\n",
       "    }\n",
       "\n",
       "    .dataframe thead th {\n",
       "        text-align: right;\n",
       "    }\n",
       "</style>\n",
       "<table border=\"1\" class=\"dataframe\">\n",
       "  <thead>\n",
       "    <tr style=\"text-align: right;\">\n",
       "      <th></th>\n",
       "      <th>feature_name</th>\n",
       "      <th>count</th>\n",
       "      <th>min</th>\n",
       "      <th>max</th>\n",
       "      <th>mean</th>\n",
       "      <th>std</th>\n",
       "      <th>var</th>\n",
       "      <th>skewness</th>\n",
       "      <th>kurtosis</th>\n",
       "      <th>do_lech</th>\n",
       "      <th>do_nhon</th>\n",
       "    </tr>\n",
       "  </thead>\n",
       "  <tbody>\n",
       "    <tr>\n",
       "      <th>0</th>\n",
       "      <td>f_Nha_ve_sinh</td>\n",
       "      <td>1462</td>\n",
       "      <td>1.00</td>\n",
       "      <td>70.00</td>\n",
       "      <td>3.360465</td>\n",
       "      <td>3.324255</td>\n",
       "      <td>11.050674</td>\n",
       "      <td>9.009220</td>\n",
       "      <td>139.246990</td>\n",
       "      <td>lech phai</td>\n",
       "      <td>nhon hon PP chuan</td>\n",
       "    </tr>\n",
       "    <tr>\n",
       "      <th>1</th>\n",
       "      <td>f_Chieu_dai</td>\n",
       "      <td>1462</td>\n",
       "      <td>2.02</td>\n",
       "      <td>56.44</td>\n",
       "      <td>14.406615</td>\n",
       "      <td>6.693995</td>\n",
       "      <td>44.809569</td>\n",
       "      <td>1.321678</td>\n",
       "      <td>4.051854</td>\n",
       "      <td>lech phai</td>\n",
       "      <td>nhon hon PP chuan</td>\n",
       "    </tr>\n",
       "    <tr>\n",
       "      <th>2</th>\n",
       "      <td>f_Rong</td>\n",
       "      <td>1462</td>\n",
       "      <td>1.80</td>\n",
       "      <td>33.33</td>\n",
       "      <td>4.734665</td>\n",
       "      <td>2.405769</td>\n",
       "      <td>5.787727</td>\n",
       "      <td>4.613211</td>\n",
       "      <td>34.183541</td>\n",
       "      <td>lech phai</td>\n",
       "      <td>nhon hon PP chuan</td>\n",
       "    </tr>\n",
       "    <tr>\n",
       "      <th>3</th>\n",
       "      <td>f_Dien_tich</td>\n",
       "      <td>1462</td>\n",
       "      <td>6.20</td>\n",
       "      <td>1657.40</td>\n",
       "      <td>69.911696</td>\n",
       "      <td>78.627263</td>\n",
       "      <td>6182.246482</td>\n",
       "      <td>10.598537</td>\n",
       "      <td>169.985813</td>\n",
       "      <td>lech phai</td>\n",
       "      <td>nhon hon PP chuan</td>\n",
       "    </tr>\n",
       "    <tr>\n",
       "      <th>4</th>\n",
       "      <td>f_Dien_tich_su_dung</td>\n",
       "      <td>1462</td>\n",
       "      <td>4.00</td>\n",
       "      <td>882.40</td>\n",
       "      <td>140.313953</td>\n",
       "      <td>105.624877</td>\n",
       "      <td>11156.614740</td>\n",
       "      <td>2.465221</td>\n",
       "      <td>9.513356</td>\n",
       "      <td>lech phai</td>\n",
       "      <td>nhon hon PP chuan</td>\n",
       "    </tr>\n",
       "    <tr>\n",
       "      <th>5</th>\n",
       "      <td>f_Lo_gioi</td>\n",
       "      <td>1462</td>\n",
       "      <td>0.70</td>\n",
       "      <td>44.00</td>\n",
       "      <td>5.964124</td>\n",
       "      <td>5.279363</td>\n",
       "      <td>27.871679</td>\n",
       "      <td>2.929212</td>\n",
       "      <td>12.221608</td>\n",
       "      <td>lech phai</td>\n",
       "      <td>nhon hon PP chuan</td>\n",
       "    </tr>\n",
       "    <tr>\n",
       "      <th>6</th>\n",
       "      <td>f_Lau_n</td>\n",
       "      <td>1462</td>\n",
       "      <td>0.00</td>\n",
       "      <td>7.00</td>\n",
       "      <td>1.484952</td>\n",
       "      <td>0.998002</td>\n",
       "      <td>0.996009</td>\n",
       "      <td>0.639324</td>\n",
       "      <td>1.160464</td>\n",
       "      <td>lech phai</td>\n",
       "      <td>nhon hon PP chuan</td>\n",
       "    </tr>\n",
       "    <tr>\n",
       "      <th>7</th>\n",
       "      <td>f_Nha_hem</td>\n",
       "      <td>1462</td>\n",
       "      <td>0.00</td>\n",
       "      <td>1.00</td>\n",
       "      <td>0.777702</td>\n",
       "      <td>0.415933</td>\n",
       "      <td>0.173000</td>\n",
       "      <td>-1.337150</td>\n",
       "      <td>-0.212323</td>\n",
       "      <td>lech trai</td>\n",
       "      <td>bet hon PP chuan</td>\n",
       "    </tr>\n",
       "  </tbody>\n",
       "</table>\n",
       "</div>"
      ],
      "text/plain": [
       "          feature_name  count   min      max        mean         std  \\\n",
       "0        f_Nha_ve_sinh   1462  1.00    70.00    3.360465    3.324255   \n",
       "1          f_Chieu_dai   1462  2.02    56.44   14.406615    6.693995   \n",
       "2               f_Rong   1462  1.80    33.33    4.734665    2.405769   \n",
       "3          f_Dien_tich   1462  6.20  1657.40   69.911696   78.627263   \n",
       "4  f_Dien_tich_su_dung   1462  4.00   882.40  140.313953  105.624877   \n",
       "5            f_Lo_gioi   1462  0.70    44.00    5.964124    5.279363   \n",
       "6              f_Lau_n   1462  0.00     7.00    1.484952    0.998002   \n",
       "7            f_Nha_hem   1462  0.00     1.00    0.777702    0.415933   \n",
       "\n",
       "            var   skewness    kurtosis    do_lech            do_nhon  \n",
       "0     11.050674   9.009220  139.246990  lech phai  nhon hon PP chuan  \n",
       "1     44.809569   1.321678    4.051854  lech phai  nhon hon PP chuan  \n",
       "2      5.787727   4.613211   34.183541  lech phai  nhon hon PP chuan  \n",
       "3   6182.246482  10.598537  169.985813  lech phai  nhon hon PP chuan  \n",
       "4  11156.614740   2.465221    9.513356  lech phai  nhon hon PP chuan  \n",
       "5     27.871679   2.929212   12.221608  lech phai  nhon hon PP chuan  \n",
       "6      0.996009   0.639324    1.160464  lech phai  nhon hon PP chuan  \n",
       "7      0.173000  -1.337150   -0.212323  lech trai   bet hon PP chuan  "
      ]
     },
     "execution_count": 6,
     "metadata": {},
     "output_type": "execute_result"
    }
   ],
   "source": [
    "# EDA tập New data\n",
    "lst_ = ['f_Nha_ve_sinh', 'f_Chieu_dai', 'f_Rong', 'f_Dien_tich',\n",
    "       'f_Dien_tich_su_dung', 'f_Lo_gioi', 'f_Lau_n', 'f_Nha_hem'\n",
    "       ]\n",
    "continous_feature_describe(lst_, X_new)"
   ]
  },
  {
   "cell_type": "code",
   "execution_count": 7,
   "id": "400c9c02",
   "metadata": {},
   "outputs": [],
   "source": [
    "# # OneHotEncoder and concating\n",
    "X_new = my_model_concating.transform(X_new)"
   ]
  },
  {
   "cell_type": "code",
   "execution_count": 8,
   "id": "9f914687",
   "metadata": {},
   "outputs": [
    {
     "name": "stdout",
     "output_type": "stream",
     "text": [
      "New Dataset RMSE:  5399.0483797303905\n",
      "New Dataset R-square:  0.7354347057033936\n"
     ]
    }
   ],
   "source": [
    "# Prediction and Evaluation\n",
    "model = my_model_gbr\n",
    "print('New Dataset RMSE: ', mean_squared_error(y_true=y_new, y_pred=model.predict(X_new), squared=False))\n",
    "print('New Dataset R-square: ', model.score(X_new, y_new))"
   ]
  },
  {
   "cell_type": "code",
   "execution_count": 9,
   "id": "e5996381",
   "metadata": {},
   "outputs": [
    {
     "name": "stdout",
     "output_type": "stream",
     "text": [
      "New Dataset R-square:  0.7354347057033936\n",
      "New Dataset MSE:  29149723.406669356\n",
      "New Dataset MAE:  2293.0561354601077\n"
     ]
    }
   ],
   "source": [
    "r2, mse, mae = Static_score_model_reg(y_new, model.predict(X_new))\n",
    "print('New Dataset R-square: ', r2)\n",
    "print('New Dataset MSE: ', mse)\n",
    "print('New Dataset MAE: ', mae)"
   ]
  },
  {
   "cell_type": "code",
   "execution_count": 10,
   "id": "9657671e",
   "metadata": {},
   "outputs": [
    {
     "data": {
      "text/html": [
       "<div>\n",
       "<style scoped>\n",
       "    .dataframe tbody tr th:only-of-type {\n",
       "        vertical-align: middle;\n",
       "    }\n",
       "\n",
       "    .dataframe tbody tr th {\n",
       "        vertical-align: top;\n",
       "    }\n",
       "\n",
       "    .dataframe thead th {\n",
       "        text-align: right;\n",
       "    }\n",
       "</style>\n",
       "<table border=\"1\" class=\"dataframe\">\n",
       "  <thead>\n",
       "    <tr style=\"text-align: right;\">\n",
       "      <th></th>\n",
       "      <th>True value</th>\n",
       "      <th>Prediction</th>\n",
       "    </tr>\n",
       "  </thead>\n",
       "  <tbody>\n",
       "    <tr>\n",
       "      <th>0</th>\n",
       "      <td>3800.0</td>\n",
       "      <td>4211.974360</td>\n",
       "    </tr>\n",
       "    <tr>\n",
       "      <th>1</th>\n",
       "      <td>11000.0</td>\n",
       "      <td>11458.714901</td>\n",
       "    </tr>\n",
       "    <tr>\n",
       "      <th>2</th>\n",
       "      <td>28000.0</td>\n",
       "      <td>34230.582881</td>\n",
       "    </tr>\n",
       "    <tr>\n",
       "      <th>3</th>\n",
       "      <td>78000.0</td>\n",
       "      <td>61777.993870</td>\n",
       "    </tr>\n",
       "    <tr>\n",
       "      <th>4</th>\n",
       "      <td>5050.0</td>\n",
       "      <td>6985.616498</td>\n",
       "    </tr>\n",
       "    <tr>\n",
       "      <th>...</th>\n",
       "      <td>...</td>\n",
       "      <td>...</td>\n",
       "    </tr>\n",
       "    <tr>\n",
       "      <th>1457</th>\n",
       "      <td>7900.0</td>\n",
       "      <td>8287.746196</td>\n",
       "    </tr>\n",
       "    <tr>\n",
       "      <th>1458</th>\n",
       "      <td>6000.0</td>\n",
       "      <td>7832.852245</td>\n",
       "    </tr>\n",
       "    <tr>\n",
       "      <th>1459</th>\n",
       "      <td>5100.0</td>\n",
       "      <td>5035.313874</td>\n",
       "    </tr>\n",
       "    <tr>\n",
       "      <th>1460</th>\n",
       "      <td>47000.0</td>\n",
       "      <td>31923.360504</td>\n",
       "    </tr>\n",
       "    <tr>\n",
       "      <th>1461</th>\n",
       "      <td>5700.0</td>\n",
       "      <td>5481.568808</td>\n",
       "    </tr>\n",
       "  </tbody>\n",
       "</table>\n",
       "<p>1462 rows × 2 columns</p>\n",
       "</div>"
      ],
      "text/plain": [
       "      True value    Prediction\n",
       "0         3800.0   4211.974360\n",
       "1        11000.0  11458.714901\n",
       "2        28000.0  34230.582881\n",
       "3        78000.0  61777.993870\n",
       "4         5050.0   6985.616498\n",
       "...          ...           ...\n",
       "1457      7900.0   8287.746196\n",
       "1458      6000.0   7832.852245\n",
       "1459      5100.0   5035.313874\n",
       "1460     47000.0  31923.360504\n",
       "1461      5700.0   5481.568808\n",
       "\n",
       "[1462 rows x 2 columns]"
      ]
     },
     "execution_count": 10,
     "metadata": {},
     "output_type": "execute_result"
    }
   ],
   "source": [
    "df_compare = pd.DataFrame({'True value': y_new,\n",
    "                          'Prediction': model.predict(X_new)})\n",
    "df_compare"
   ]
  },
  {
   "cell_type": "code",
   "execution_count": 11,
   "id": "e9424c71",
   "metadata": {},
   "outputs": [
    {
     "data": {
      "image/png": "[encoded data removed]",
      "text/plain": [
       "<Figure size 864x432 with 2 Axes>"
      ]
     },
     "metadata": {
      "needs_background": "light"
     },
     "output_type": "display_data"
    }
   ],
   "source": [
    "# Visualization\n",
    "Visualize_model_reg(y_new, model.predict(X_new))"
   ]
  },
  {
   "cell_type": "code",
   "execution_count": null,
   "id": "c1ebb36e",
   "metadata": {},
   "outputs": [],
   "source": []
  }
 ],
 "metadata": {
  "kernelspec": {
   "display_name": "Python 3",
   "language": "python",
   "name": "python3"
  },
  "language_info": {
   "codemirror_mode": {
    "name": "ipython",
    "version": 3
   },
   "file_extension": ".py",
   "mimetype": "text/x-python",
   "name": "python",
   "nbconvert_exporter": "python",
   "pygments_lexer": "ipython3",
   "version": "3.6.8"
  }
 },
 "nbformat": 4,
 "nbformat_minor": 5
}
